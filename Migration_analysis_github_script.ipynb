{
 "cells": [
  {
   "cell_type": "code",
   "execution_count": 133,
   "metadata": {},
   "outputs": [],
   "source": [
    "import pandas as pd\n",
    "import numpy as np\n",
    "import seaborn as sns\n",
    "import matplotlib.pyplot as plt\n",
    "from collections import Counter\n",
    "from nltk.corpus import stopwords\n",
    "import spacy\n",
    "import string\n",
    "from collections import Counter\n",
    "from nltk.corpus import stopwords\n",
    "from nltk import RegexpTokenizer"
   ]
  },
  {
   "cell_type": "code",
   "execution_count": 134,
   "metadata": {},
   "outputs": [],
   "source": [
    "import gensim\n",
    "from sklearn.feature_extraction.text import TfidfVectorizer\n",
    "import geopandas as gpd\n",
    "from shapely.geometry import Point, Polygon\n",
    "import descartes\n",
    "import matplotlib.pyplot as plt\n",
    "import seaborn as sns\n",
    "\n",
    "%matplotlib inline"
   ]
  },
  {
   "cell_type": "code",
   "execution_count": 135,
   "metadata": {},
   "outputs": [],
   "source": [
    "import plotly.plotly as py\n",
    "import plotly.graph_objs as go\n",
    "import plotly\n",
    "import pandas as pd"
   ]
  },
  {
   "cell_type": "markdown",
   "metadata": {},
   "source": [
    "# 1. Scraping Twitter"
   ]
  },
  {
   "cell_type": "code",
   "execution_count": 136,
   "metadata": {},
   "outputs": [],
   "source": [
    "# INSTALL PYTHON TWITTER\n",
    "# MORE INFO @ https://python-twitter.readthedocs.io/en/latest/installation.html\n",
    "import twitter"
   ]
  },
  {
   "cell_type": "code",
   "execution_count": 9,
   "metadata": {},
   "outputs": [],
   "source": [
    "#INSERT YOUR KEYS AND TOKENS PROVIDED ON TWITTER DEVELOPER ACCOUNT \n",
    "api = twitter.Api(consumer_key=\"APIKEY\",\n",
    "                  consumer_secret=\"APISECRETKEY\",\n",
    "                  access_token_key=\"ACCESSTOKEN\",\n",
    "                  access_token_secret=\"ACCESSTOKENSECRET\")"
   ]
  },
  {
   "cell_type": "code",
   "execution_count": 10,
   "metadata": {},
   "outputs": [],
   "source": [
    "#RUNNING A SEARCH ON TWITTER THROUGH A QUERY\n",
    "tweets = api.GetSearch(\n",
    "    raw_query=\"q=venezolanosenelexterior&src=typd\")"
   ]
  },
  {
   "cell_type": "code",
   "execution_count": null,
   "metadata": {},
   "outputs": [],
   "source": [
    "#RUNNING A SEARCH THROUGH GEO LOCATION\n",
    "api.GetSearch(geocode=(\"37.781157\", \"-122.398720\", \"1mi\"))"
   ]
  },
  {
   "cell_type": "markdown",
   "metadata": {},
   "source": [
    "## 2. Loading the data"
   ]
  },
  {
   "cell_type": "code",
   "execution_count": 137,
   "metadata": {},
   "outputs": [
    {
     "name": "stdout",
     "output_type": "stream",
     "text": [
      "(86126, 19)\n"
     ]
    },
    {
     "data": {
      "text/html": [
       "<div>\n",
       "<style scoped>\n",
       "    .dataframe tbody tr th:only-of-type {\n",
       "        vertical-align: middle;\n",
       "    }\n",
       "\n",
       "    .dataframe tbody tr th {\n",
       "        vertical-align: top;\n",
       "    }\n",
       "\n",
       "    .dataframe thead th {\n",
       "        text-align: right;\n",
       "    }\n",
       "</style>\n",
       "<table border=\"1\" class=\"dataframe\">\n",
       "  <thead>\n",
       "    <tr style=\"text-align: right;\">\n",
       "      <th></th>\n",
       "      <th>Unnamed: 0</th>\n",
       "      <th>id_str</th>\n",
       "      <th>from_user</th>\n",
       "      <th>text</th>\n",
       "      <th>created_at</th>\n",
       "      <th>time</th>\n",
       "      <th>geo_coordinates</th>\n",
       "      <th>user_lang</th>\n",
       "      <th>in_reply_to_user_id_str</th>\n",
       "      <th>in_reply_to_screen_name</th>\n",
       "      <th>from_user_id_str</th>\n",
       "      <th>in_reply_to_status_id_str</th>\n",
       "      <th>source</th>\n",
       "      <th>profile_image_url</th>\n",
       "      <th>user_followers_count</th>\n",
       "      <th>user_friends_count</th>\n",
       "      <th>user_location</th>\n",
       "      <th>status_url</th>\n",
       "      <th>entities_str</th>\n",
       "    </tr>\n",
       "  </thead>\n",
       "  <tbody>\n",
       "    <tr>\n",
       "      <th>0</th>\n",
       "      <td>0</td>\n",
       "      <td>1.119288e+18</td>\n",
       "      <td>edgarjmendezt</td>\n",
       "      <td>#familytime #cookingtime #friday #venezolanose...</td>\n",
       "      <td>Fri Apr 19 17:12:35 +0000 2019</td>\n",
       "      <td>19/04/2019 18:12:35</td>\n",
       "      <td>loc: 28.5421,-81.3775</td>\n",
       "      <td>es</td>\n",
       "      <td>NaN</td>\n",
       "      <td>NaN</td>\n",
       "      <td>2.929930e+08</td>\n",
       "      <td>NaN</td>\n",
       "      <td>&lt;a href=\"http://instagram.com\" rel=\"nofollow\"&gt;...</td>\n",
       "      <td>http://pbs.twimg.com/profile_images/1093853883...</td>\n",
       "      <td>139.0</td>\n",
       "      <td>201.0</td>\n",
       "      <td>Orlando, Florida, USA</td>\n",
       "      <td>http://twitter.com/edgarjmendezt/statuses/1119...</td>\n",
       "      <td>{\"hashtags\":[{\"text\":\"familytime\",\"indices\":[0...</td>\n",
       "    </tr>\n",
       "    <tr>\n",
       "      <th>1</th>\n",
       "      <td>1</td>\n",
       "      <td>1.119286e+18</td>\n",
       "      <td>buenoGordoFeo</td>\n",
       "      <td>Síguenos en Facebook https://t.co/PUeOCLyxPd\\n...</td>\n",
       "      <td>Fri Apr 19 17:07:04 +0000 2019</td>\n",
       "      <td>19/04/2019 18:07:04</td>\n",
       "      <td>NaN</td>\n",
       "      <td>es</td>\n",
       "      <td>NaN</td>\n",
       "      <td>NaN</td>\n",
       "      <td>8.833677e+07</td>\n",
       "      <td>NaN</td>\n",
       "      <td>&lt;a href=\"http://www.sendurtweet.com\" rel=\"nofo...</td>\n",
       "      <td>http://pbs.twimg.com/profile_images/1052068854...</td>\n",
       "      <td>1134.0</td>\n",
       "      <td>2202.0</td>\n",
       "      <td>Santiago, Chile</td>\n",
       "      <td>http://twitter.com/buenoGordoFeo/statuses/1119...</td>\n",
       "      <td>{\"hashtags\":[{\"text\":\"BGF\",\"indices\":[45,49]},...</td>\n",
       "    </tr>\n",
       "    <tr>\n",
       "      <th>2</th>\n",
       "      <td>2</td>\n",
       "      <td>1.119286e+18</td>\n",
       "      <td>paellayolecater</td>\n",
       "      <td>🍴EXQUISITE GASTRONOMY🤤\\n\\n.\\n.\\n\\n👏A team will...</td>\n",
       "      <td>Fri Apr 19 17:04:21 +0000 2019</td>\n",
       "      <td>19/04/2019 18:04:21</td>\n",
       "      <td>NaN</td>\n",
       "      <td>es</td>\n",
       "      <td>NaN</td>\n",
       "      <td>NaN</td>\n",
       "      <td>2.422603e+09</td>\n",
       "      <td>NaN</td>\n",
       "      <td>&lt;a href=\"http://twitter.com/download/android\" ...</td>\n",
       "      <td>http://pbs.twimg.com/profile_images/1080555416...</td>\n",
       "      <td>262.0</td>\n",
       "      <td>3018.0</td>\n",
       "      <td>Miami, FL</td>\n",
       "      <td>http://twitter.com/paellayolecater/statuses/11...</td>\n",
       "      <td>{\"hashtags\":[{\"text\":\"miami\",\"indices\":[96,102...</td>\n",
       "    </tr>\n",
       "  </tbody>\n",
       "</table>\n",
       "</div>"
      ],
      "text/plain": [
       "   Unnamed: 0        id_str        from_user  \\\n",
       "0           0  1.119288e+18    edgarjmendezt   \n",
       "1           1  1.119286e+18    buenoGordoFeo   \n",
       "2           2  1.119286e+18  paellayolecater   \n",
       "\n",
       "                                                text  \\\n",
       "0  #familytime #cookingtime #friday #venezolanose...   \n",
       "1  Síguenos en Facebook https://t.co/PUeOCLyxPd\\n...   \n",
       "2  🍴EXQUISITE GASTRONOMY🤤\\n\\n.\\n.\\n\\n👏A team will...   \n",
       "\n",
       "                       created_at                 time        geo_coordinates  \\\n",
       "0  Fri Apr 19 17:12:35 +0000 2019  19/04/2019 18:12:35  loc: 28.5421,-81.3775   \n",
       "1  Fri Apr 19 17:07:04 +0000 2019  19/04/2019 18:07:04                    NaN   \n",
       "2  Fri Apr 19 17:04:21 +0000 2019  19/04/2019 18:04:21                    NaN   \n",
       "\n",
       "  user_lang  in_reply_to_user_id_str in_reply_to_screen_name  \\\n",
       "0        es                      NaN                     NaN   \n",
       "1        es                      NaN                     NaN   \n",
       "2        es                      NaN                     NaN   \n",
       "\n",
       "   from_user_id_str  in_reply_to_status_id_str  \\\n",
       "0      2.929930e+08                        NaN   \n",
       "1      8.833677e+07                        NaN   \n",
       "2      2.422603e+09                        NaN   \n",
       "\n",
       "                                              source  \\\n",
       "0  <a href=\"http://instagram.com\" rel=\"nofollow\">...   \n",
       "1  <a href=\"http://www.sendurtweet.com\" rel=\"nofo...   \n",
       "2  <a href=\"http://twitter.com/download/android\" ...   \n",
       "\n",
       "                                   profile_image_url  user_followers_count  \\\n",
       "0  http://pbs.twimg.com/profile_images/1093853883...                 139.0   \n",
       "1  http://pbs.twimg.com/profile_images/1052068854...                1134.0   \n",
       "2  http://pbs.twimg.com/profile_images/1080555416...                 262.0   \n",
       "\n",
       "   user_friends_count          user_location  \\\n",
       "0               201.0  Orlando, Florida, USA   \n",
       "1              2202.0        Santiago, Chile   \n",
       "2              3018.0              Miami, FL   \n",
       "\n",
       "                                          status_url  \\\n",
       "0  http://twitter.com/edgarjmendezt/statuses/1119...   \n",
       "1  http://twitter.com/buenoGordoFeo/statuses/1119...   \n",
       "2  http://twitter.com/paellayolecater/statuses/11...   \n",
       "\n",
       "                                        entities_str  \n",
       "0  {\"hashtags\":[{\"text\":\"familytime\",\"indices\":[0...  \n",
       "1  {\"hashtags\":[{\"text\":\"BGF\",\"indices\":[45,49]},...  \n",
       "2  {\"hashtags\":[{\"text\":\"miami\",\"indices\":[96,102...  "
      ]
     },
     "execution_count": 137,
     "metadata": {},
     "output_type": "execute_result"
    }
   ],
   "source": [
    "##LOAD THE FILE WITH TWEETS GATHERED\n",
    "tweets = pd.read_csv('./tweets.csv')\n",
    "print(tweets.shape)\n",
    "tweets.head(3)"
   ]
  },
  {
   "cell_type": "markdown",
   "metadata": {},
   "source": [
    "## 3. Exploratory data analysis"
   ]
  },
  {
   "cell_type": "code",
   "execution_count": 138,
   "metadata": {},
   "outputs": [
    {
     "name": "stdout",
     "output_type": "stream",
     "text": [
      "<class 'pandas.core.frame.DataFrame'>\n",
      "RangeIndex: 86126 entries, 0 to 86125\n",
      "Data columns (total 19 columns):\n",
      "Unnamed: 0                   86126 non-null int64\n",
      "id_str                       86108 non-null float64\n",
      "from_user                    86108 non-null object\n",
      "text                         86108 non-null object\n",
      "created_at                   86108 non-null object\n",
      "time                         86108 non-null object\n",
      "geo_coordinates              3307 non-null object\n",
      "user_lang                    86108 non-null object\n",
      "in_reply_to_user_id_str      2483 non-null float64\n",
      "in_reply_to_screen_name      2483 non-null object\n",
      "from_user_id_str             86108 non-null float64\n",
      "in_reply_to_status_id_str    1313 non-null float64\n",
      "source                       86108 non-null object\n",
      "profile_image_url            86108 non-null object\n",
      "user_followers_count         85318 non-null float64\n",
      "user_friends_count           84879 non-null float64\n",
      "user_location                60787 non-null object\n",
      "status_url                   86108 non-null object\n",
      "entities_str                 86108 non-null object\n",
      "dtypes: float64(6), int64(1), object(12)\n",
      "memory usage: 12.5+ MB\n"
     ]
    }
   ],
   "source": [
    "##EXPLORE VARIABLES\n",
    "tweets.info()"
   ]
  },
  {
   "cell_type": "code",
   "execution_count": 139,
   "metadata": {},
   "outputs": [
    {
     "data": {
      "text/plain": [
       "(86126, 19)"
      ]
     },
     "execution_count": 139,
     "metadata": {},
     "output_type": "execute_result"
    }
   ],
   "source": [
    "## FIND SHAPE OF YOUR DATAFRAME\n",
    "tweets.shape"
   ]
  },
  {
   "cell_type": "code",
   "execution_count": 140,
   "metadata": {},
   "outputs": [
    {
     "data": {
      "text/plain": [
       "484"
      ]
     },
     "execution_count": 140,
     "metadata": {},
     "output_type": "execute_result"
    }
   ],
   "source": [
    "##NUMBER OF UNIQUE LOCATIONS FOR TWEETS WITH GEO_COORDINATES\n",
    "len(tweets.geo_coordinates.unique())"
   ]
  },
  {
   "cell_type": "code",
   "execution_count": 141,
   "metadata": {},
   "outputs": [
    {
     "data": {
      "text/plain": [
       "82819"
      ]
     },
     "execution_count": 141,
     "metadata": {},
     "output_type": "execute_result"
    }
   ],
   "source": [
    "##NUMBER OF TWEETS WITHOUT GEO_COORDINATES\n",
    "tweets.geo_coordinates.isnull().sum()"
   ]
  },
  {
   "cell_type": "code",
   "execution_count": 142,
   "metadata": {},
   "outputs": [
    {
     "data": {
      "text/plain": [
       "0.03839723196247358"
      ]
     },
     "execution_count": 142,
     "metadata": {},
     "output_type": "execute_result"
    }
   ],
   "source": [
    "##% OF TWEETS WITH GEO_COORDINATES\n",
    "geolocationperc = (1-(tweets.geo_coordinates.isnull().sum()/86126))\n",
    "geolocationperc"
   ]
  },
  {
   "cell_type": "code",
   "execution_count": 143,
   "metadata": {},
   "outputs": [
    {
     "data": {
      "text/plain": [
       "loc: -33.45,-70.6667              336\n",
       "loc: -33.42954,-70.61881          300\n",
       "loc: -33.43777778,-70.65027778    195\n",
       "loc: 8,-65                        101\n",
       "loc: -12.0611,-77.0353             87\n",
       "loc: 10.5056,-66.9136              81\n",
       "loc: 28.5421,-81.3775              76\n",
       "loc: 4.5997,-74.0794               72\n",
       "loc: -34.55686818,-58.4133966      64\n",
       "loc: 25.7752,-80.192               56\n",
       "loc: 26.02827,-80.16886            46\n",
       "loc: 19.4326,-99.1332              42\n",
       "loc: -34.6086,-58.3734             38\n",
       "loc: 21.1812,-86.8322              36\n",
       "loc: -0.2158,-78.5103              36\n",
       "loc: 3.816667,-73.916667           27\n",
       "loc: -34.37194444,-71.12452778     23\n",
       "loc: -34.1667,-70.75               21\n",
       "loc: -34.6089,-58.4397             18\n",
       "loc: 25.6706,-80.436               18\n",
       "loc: 40.4,-3.68333                 17\n",
       "loc: 26.08466,-80.3711             16\n",
       "loc: -38.7395,-72.6109             16\n",
       "loc: -31.4,-64.1833                16\n",
       "loc: -29.9533,-71.3436             14\n",
       "loc: -12.0678,-76.9584             14\n",
       "loc: 20.0833,-98.3667              14\n",
       "loc: -31,-71                       13\n",
       "loc: -33.43179,-70.6094            13\n",
       "loc: 14.6211,-90.5269              13\n",
       "                                 ... \n",
       "loc: -11.87161615,-77.07047005      1\n",
       "loc: -33.36476,-71.67076            1\n",
       "loc: -34.60388889,-58.40527778      1\n",
       "loc: -34.635375,-58.520711          1\n",
       "loc: -33.3521439,-70.3097725        1\n",
       "loc: -33.2,-70.6833                 1\n",
       "loc: 26.01,-80.2917                 1\n",
       "loc: 34.1171,-83.9985               1\n",
       "loc: 21.135317,-86.860752           1\n",
       "loc: -33.3903,-70.5837              1\n",
       "loc: -34.6073286,-58.4456231        1\n",
       "loc: -33.43815278,-70.65991389      1\n",
       "loc: -34.59247303,-58.37491512      1\n",
       "loc: 10.2369,-66.8567               1\n",
       "loc: -34.6333,-58.4                 1\n",
       "loc: -33.49307109,-70.51805592      1\n",
       "loc: 40.7779,-73.9675               1\n",
       "loc: -2.20150878,-79.91605282       1\n",
       "loc: 7.82016001,-72.21897003        1\n",
       "loc: 9.9763317,-84.15098895         1\n",
       "loc: 25.7485086,-80.2145404         1\n",
       "loc: -33.4514294,-70.679057         1\n",
       "loc: 29.4167,-98.5                  1\n",
       "loc: 5.96985122,-62.5347805         1\n",
       "loc: 21.12934058,-86.74881935       1\n",
       "loc: 25.8081,-80.3533               1\n",
       "loc: -31.43027778,-64.17555556      1\n",
       "loc: -12.18638889,-77.02111111      1\n",
       "loc: 26.124354,-80.249503           1\n",
       "loc: -12.06833333,-77.04138889      1\n",
       "Name: geo_coordinates, Length: 483, dtype: int64"
      ]
     },
     "execution_count": 143,
     "metadata": {},
     "output_type": "execute_result"
    }
   ],
   "source": [
    "##NUMBER OF TWEETS BY GEO_COORDINATE\n",
    "tweets.geo_coordinates.value_counts()"
   ]
  },
  {
   "cell_type": "markdown",
   "metadata": {},
   "source": [
    "## 4. Gathering Tweets"
   ]
  },
  {
   "cell_type": "code",
   "execution_count": 144,
   "metadata": {},
   "outputs": [],
   "source": [
    "##GENERATE A LIST OF ALL YOUR TWEETS TO LATER WORK WITH NLP\n",
    "tweets_text=[]\n",
    "for tweet in tweets.text:\n",
    "    a = str(tweet)\n",
    "    tweets_text.append(a)"
   ]
  },
  {
   "cell_type": "code",
   "execution_count": 145,
   "metadata": {},
   "outputs": [
    {
     "data": {
      "text/plain": [
       "['#familytime #cookingtime #friday #venezolanosenelexterior #blessed #lifestyle #scruff #scruffapp @ Orlando, Florida https://t.co/aY1BKU8BfD',\n",
       " 'Síguenos en Facebook https://t.co/PUeOCLyxPd\\n#BGF #Podcat #PodCasting #Venezuela #Venezolanos #VenezolanosenChile #Chile',\n",
       " '🍴EXQUISITE GASTRONOMY🤤\\n\\n.\\n.\\n\\n👏A team willing to offer you the best. Book now 📞786-3461390 🥘🍲🥗\\n\\n #miami #miamievents #doral #weeding #paellayolecatering #bestpaellamiami #bestspanishfoodintown #bestcatering #bestpaella #dadecounty #venezolanosenmiami  #19Abril https://t.co/pMGaZtL6tM',\n",
       " 'Recomendación para los peluqueros caninos: no vayan al baño mientras trabajan porque los clientes inventan mucho\\n\\n#venezolanosenelmundo #venezolanosenelextranjero #venezolanosenchile💛💙❤… https://t.co/qVsS2iP7Qw',\n",
       " 'Recomendación para los peluqueros caninos: no vayan al baño mientras trabajan porque los clientes inventan mucho\\n\\n#venezolanosenelmundo #venezolanosenelextranjero #venezolanosenchile💛💙❤… https://t.co/qVsS2iP7Qw']"
      ]
     },
     "execution_count": 145,
     "metadata": {},
     "output_type": "execute_result"
    }
   ],
   "source": [
    "##SEE YOUR LIST OF TWEETS\n",
    "tweets_text[:5]"
   ]
  },
  {
   "cell_type": "markdown",
   "metadata": {},
   "source": [
    "## 5. Natural Language Processing"
   ]
  },
  {
   "cell_type": "code",
   "execution_count": 42,
   "metadata": {},
   "outputs": [],
   "source": [
    "##IMPORT NLP LIB IN SPANISH AND LIST OF STOPWORDS IN SPANISH\n",
    "import es_core_news_sm\n",
    "nlp = es_core_news_sm.load()\n",
    "stopwordses = pd.read_json('./stopwords-es.json')"
   ]
  },
  {
   "cell_type": "code",
   "execution_count": 43,
   "metadata": {},
   "outputs": [],
   "source": [
    "##GENERATE A LIST OF STOPWORDS IN SPANISH\n",
    "stopwordses = stopwordses.rename(columns={0: 'word'})\n",
    "stopwordsespanol=[]\n",
    "for word in stopwordses.word:\n",
    "    stopwordsespanol.append(word)"
   ]
  },
  {
   "cell_type": "code",
   "execution_count": 44,
   "metadata": {},
   "outputs": [],
   "source": [
    "##ADDING WORDS TO LIST OF STOPWORDS TO NOT CONSIDER #S, EMOJIS AND OTHER WORDS THAT DO NOT ADD VALUE\n",
    "stopwordsespanol.append('rt')\n",
    "stopwordsespanol.append('venezuela')\n",
    "stopwordsespanol.append('venezolanosenperu') \n",
    "stopwordsespanol.append('venezolanosenmiami')\n",
    "stopwordsespanol.append('venezolanosenargentina')\n",
    "stopwordsespanol.append('sosvenezuela')\n",
    "stopwordsespanol.append('venezolanosenelmundo')\n",
    "stopwordsespanol.append('🇪')\n",
    "stopwordsespanol.append('venezolanosenchile')\n",
    "stopwordsespanol.append('venezolanosenelexterior')\n",
    "stopwordsespanol.append('chile')\n",
    "stopwordsespanol.append('venezolano')\n",
    "stopwordsespanol.append('@manoolete')\n",
    "stopwordsespanol.append('🇻')\n",
    "stopwordsespanol.append('2do')\n",
    "stopwordsespanol.append('…')\n",
    "stopwordsespanol.append('venezolanosenperú')\n",
    "stopwordsespanol.append('...')\n",
    "stopwordsespanol.append('santiago')\n",
    "stopwordsespanol.append('perú')\n",
    "stopwordsespanol.append('miami')\n",
    "stopwordsespanol.append('halloween')\n",
    "stopwordsespanol.append('mesdelhorroramc')\n",
    "stopwordsespanol.append('teamhdp')\n",
    "stopwordsespanol.append('venezolanosencolombia')\n",
    "stopwordsespanol.append('venezolanosenecuador')\n",
    "stopwordsespanol.append('venezolanosenbrasil')\n",
    "stopwordsespanol.append('venezolanosenuruguay')\n",
    "stopwordsespanol.append('venezolanosenparaguay')\n",
    "stopwordsespanol.append('venezolanosenmexico')\n",
    "stopwordsespanol.append('venezolanosenpanama')\n",
    "stopwordsespanol.append('venezolanosencostarica')\n",
    "stopwordsespanol.append('venezolanosenguatemala')\n",
    "stopwordsespanol.append('venezolanosenhonduras')\n",
    "stopwordsespanol.append('venezolanosenelsalvador')\n",
    "stopwordsespanol.append('¿')\n",
    "stopwordsespanol.append('¡')\n",
    "stopwordsespanol.append('venezolanos')\n",
    "stopwordsespanol.append('peru')\n",
    "stopwordsespanol.append('☆')\n",
    "stopwordsespanol.append( '️')\n",
    "stopwordsespanol.append('🇨')\n",
    "stopwordsespanol.append('ecuador')\n",
    "stopwordsespanol.append('venezolanosenbogota')\n",
    "stopwordsespanol.append('venezolanosenespaña')\n",
    "stopwordsespanol.append('🔥')\n",
    "stopwordsespanol.append('•')\n",
    "stopwordsespanol.append('venezolanosenlima')\n",
    "stopwordsespanol.append('venezolanosporelmundo')\n",
    "stopwordsespanol.append('venezolanosenusa')\n",
    "stopwordsespanol.append('colombia')\n",
    "stopwordsespanol.append('venezolanosenmadrid')\n",
    "stopwordsespanol.append('venezolanosenelextranjero')\n",
    "stopwordsespanol.append('venezolanosenorlando')\n",
    "stopwordsespanol.append('❤')\n",
    "stopwordsespanol.append('😂')\n",
    "stopwordsespanol.append('🤣')\n",
    "stopwordsespanol.append('👏')"
   ]
  },
  {
   "cell_type": "code",
   "execution_count": 45,
   "metadata": {
    "scrolled": true
   },
   "outputs": [],
   "source": [
    "##USING SPACY TO CLEAN TWEETS APPLYING TOKENIZING, LEMMATIZING, REMOVING STOPWORDS AND PUNCTUATIONS\n",
    "## IMPORT SPACY AND ACTIVATE ITS SPANISH MODULE\n",
    "import spacy\n",
    "nlp = es_core_news_sm.load()\n",
    "punctuations = string.punctuation\n",
    "\n",
    "#FUNCTION TO CLEAN UP TEXT\n",
    "def cleanup_text(docs, logging=False):\n",
    "    texts = []\n",
    "    counter = 1\n",
    "    for doc in docs:\n",
    "        if counter % 1000 == 0 and logging:\n",
    "            print(\"Processed %d out of %d documents.\" % (counter, len(docs)))\n",
    "        counter += 1\n",
    "        doc = nlp(doc, disable=['parser', 'ner']) #DISABLING DEFAULT MODELS OF SPACY\n",
    "        tokens = [tok.lemma_.lower().strip() for tok in doc if tok.lemma_ != '-PRON-']  #APPLYING TOKENIZING AND LEMMATIZING\n",
    "        tokens = [tok for tok in tokens if tok not in stopwordsespanol and tok not in punctuations] #REMOVING STOPWORDS AND PUNCTUATIONS\n",
    "        tokens = filter(lambda t: not t.startswith('@'), tokens)\n",
    "        tokens = filter(lambda t: not t.startswith('#'), tokens)\n",
    "        tokens = filter(lambda t: not t.startswith('http'), tokens)\n",
    "        tokens = ' '.join(tokens) \n",
    "        texts.append(tokens)  #APPENDING CLEAN TITLES TO TEXTS LIST\n",
    "    return pd.Series(texts)   #RETURNING TEXTS LIST AS PD SERIES\n",
    "\n",
    "tweets_clean = cleanup_text(tweets_text) #APPLYING CLEAN UP FUNCTION TO LIST OF TWEETS\n",
    "tweets_clean = ' '.join(tweets_clean).split() #SPLITING TWEETS \n",
    "\n",
    "tweets_counts = Counter(tweets_clean) #COUNT TWEETS\n",
    "\n",
    "tweets_common_words = [word[0] for word in tweets_counts.most_common(50)]  #GENERATE LIST OF 50 MOST COMMON WORDS\n",
    "tweets_common_counts = [word[1] for word in tweets_counts.most_common(50)] #GENERATE LIST FOR COMMON COUNTS\n"
   ]
  },
  {
   "cell_type": "code",
   "execution_count": 399,
   "metadata": {},
   "outputs": [
    {
     "data": {
      "image/png": "[encoded data removed]",
      "text/plain": [
       "<Figure size 1080x720 with 1 Axes>"
      ]
     },
     "metadata": {},
     "output_type": "display_data"
    }
   ],
   "source": [
    "##CREATE A WORDCLOUD GRAPH WITH THE 50 MOST COMMON WORDS\n",
    "#IMPORT LIBRARIES\n",
    "import matplotlib.pyplot as plt\n",
    "from wordcloud import WordCloud\n",
    "\n",
    "#CONVERT LIST TO STRING \n",
    "unique_string=(\" \").join(tweets_common_words)\n",
    "#CREATE THE WORDCLOUD WITH ITS CHARACTERISTICS BACKGROUND COLOR AND SIZE\n",
    "wordcloud = WordCloud(background_color='black', width = 1000, height = 500).generate(unique_string)\n",
    "plt.imshow(wordcloud)\n",
    "plt.axis(\"off\")\n",
    "plt.savefig(\"your_file_name\"+\".png\", bbox_inches='tight')\n",
    "plt.show()\n",
    "plt.close()"
   ]
  },
  {
   "cell_type": "markdown",
   "metadata": {},
   "source": [
    "## 6. Classification model with Word2vec"
   ]
  },
  {
   "cell_type": "code",
   "execution_count": 48,
   "metadata": {},
   "outputs": [],
   "source": [
    "## GENERATE BAG OF WORDS WITH KEY TERMS FOR EACH CATEGORY\n",
    "identidad = ['pasaporte', 'visa', 'asilo', 'refugiado', 'status', 'identidad', 'soy', 'cédula', 'identidad', 'chavista', 'escuálido', 'opositor', 'socialista', 'comunista', 'activismo', 'cuba', 'rusia', 'guardia naciional', 'diáspora',\n",
    "             'apostilla', 'antecedentespenales', 'antecedentes penales', 'tramitelegales', 'trámites', 'tramites legales', 'gestiondetramites', 'gestión de trámites', 'escritoriojuridico', 'escritorio juridico',\n",
    "            'boda', 'matrimonio', 'proceso migratorio', 'legalizar', 'apostillar', 'articulo', 'artículo', 'datos migratorios', 'actualizar', 'prorroga', 'prórroga', 'solicitud', 'documentación', 'emigrante']\n",
    "\n",
    "refugio = ['seguridad', 'casa', 'hospedaje', 'dormir', 'estadía', 'estadia', 'comida', 'litro de leche', 'arepas', \n",
    "           'refugio', 'protección', 'lugar', 'colchón', 'pertenencias', 'objetos', 'cosa', 'personales', 'necesidades basicas', 'necesidades básicas',\n",
    "          'barrio', 'mansión', 'rancho', 'derechos humanos', 'inmueble', 'apartamento', 'departamento', 'ayuda humanitaria', 'ayuda', 'dinero', 'efectivo', 'crédito',\n",
    "          'servicios para la comunidad', 'carga', 'transporte', 'departamento'] \n",
    "\n",
    "empleo = ['permiso', 'trabajo', 'sueldo', 'empleo', 'chaucha', 'jefe', 'empleado', 'salario', 'trabajar', 'chamba', 'trabajito', 'dinero', 'ingreso', 'laborando', 'dólares', 'canasta básica', 'inflación', 'sueldo mínimo',\n",
    "          'manicure', 'pedicure', 'peluqueria', 'ventas', 'empresa', 'pagos', 'laborando', 'taxista', 'rider', 'biker', 'puertas a dentro' ]\n",
    "\n",
    "salud = ['enfermedad', 'asistencia', 'doctor', 'salud', 'medicamentos', 'hospitales', 'diabetes', 'dialisis', 'diálisis',\n",
    "         'vacunas', 'prescripción', 'receta', 'suministros', 'sarampión', 'tensión alta', 'jeringas', 'gasas', \n",
    "         'malaria', 'difteria', 'tuberculosis', 'enfermo', 'enferma', 'atención médica', 'atencion medica', 'dental', 'poliza', 'póliza', 'seguro'\n",
    "        'cobertura', 'saluddental', 'dentista']\n",
    "\n",
    "educacion = ['escuela', 'educación','inscripción', 'matrícula', 'colegio', 'instituto', 'clases', 'gratuito', 'privado',\n",
    "             'primaria', 'secundaria','universidad', 'universitaria', 'aprender', 'educar', 'ucv', 'ula', 'docente', 'cuaderno', 'papel', 'libros']\n",
    "\n",
    "racismo = ['racismo', 'xenofobia', 'ataque', 'ataques', 'violencia', 'discriminación','discrimina', 'clasismo', 'niche', 'sifrino', 'negro', 'negrero',\n",
    "           'majunche', 'veneco','venecos', 'sudacas', 'putas', 'orillero', 'indio', 'criollos', 'alcurnia', 'tortura', 'denuncia', 'amenaza', 'terrorista']"
   ]
  },
  {
   "cell_type": "code",
   "execution_count": 49,
   "metadata": {},
   "outputs": [],
   "source": [
    "##INSTANTIATE MODEL AND INCORPORATE THE SPANISH BILLION WORDS KORPUS FROM KAGGLE\n",
    "#tutorial gensin.model.keyedvectors\n",
    "#tutorial https://radimrehurek.com/gensim/models/keyedvectors.html\n",
    "# link to Korpus of Kaggle https://www.kaggle.com/rtatman/pretrained-word-vectors-for-spanish\n",
    "model = gensim.models.KeyedVectors.load_word2vec_format('./data/SBW-vectors-300-min5.txt', binary=False)"
   ]
  },
  {
   "cell_type": "code",
   "execution_count": 57,
   "metadata": {},
   "outputs": [],
   "source": [
    "##CREATE VECTORS FOR EACH BAG OF WORDS\n",
    "#CREATE THE IDENTIDAD VECTOR\n",
    "\n",
    "#ADDS ALL WORD VECTORS\n",
    "ident_vect = np.zeros((1,300))\n",
    "counter=0\n",
    "for word in identidad:    #IT TAKES EACH WORD OF THE BAG OF WORDS\n",
    "    if word not in model.vocab:\n",
    "        continue\n",
    "    else:\n",
    "        temp = model.word_vec(word) #ASSIGNS EACH A VECTOR BASED ON THE TRAINED MODEL\n",
    "        ident_vect=ident_vect+temp  #ADDS THE NEW WORD VECTOR TO THE ident_vect\n",
    "        counter +=1\n",
    "\n",
    "ident_vect=ident_vect/counter  #GETS THE AVERAGE VALUE\n",
    "ident_vect=np.squeeze(ident_vect) #REMOVES SINGLE-DIMENSIONAL ENTRIES FROM ARRAY"
   ]
  },
  {
   "cell_type": "code",
   "execution_count": 58,
   "metadata": {},
   "outputs": [],
   "source": [
    "##CREATE THE REFUGIO VECTOR\n",
    "ref_vect = np.zeros((1,300))\n",
    "counter=0\n",
    "for word in refugio:\n",
    "    if word not in model.vocab:\n",
    "        continue\n",
    "    else:\n",
    "        temp = model.word_vec(word)\n",
    "        ref_vect=ref_vect+temp\n",
    "        counter +=1\n",
    "\n",
    "ref_vect=ref_vect/counter\n",
    "ref_vect=np.squeeze(ref_vect)"
   ]
  },
  {
   "cell_type": "code",
   "execution_count": 59,
   "metadata": {},
   "outputs": [],
   "source": [
    "#CREATE THE EMPLEO VECTOR\n",
    "empleo_vect = np.zeros((1,300))\n",
    "counter=0\n",
    "for word in empleo:\n",
    "    if word not in model.vocab:\n",
    "        continue\n",
    "    else:\n",
    "        temp = model.word_vec(word)\n",
    "        empleo_vect=empleo_vect+temp\n",
    "        counter +=1\n",
    "\n",
    "empleo_vect=empleo_vect/counter\n",
    "empleo_vect=np.squeeze(empleo_vect)"
   ]
  },
  {
   "cell_type": "code",
   "execution_count": 60,
   "metadata": {},
   "outputs": [],
   "source": [
    "#CREATE THE SALUD VECTOR\n",
    "salud_vect = np.zeros((1,300))\n",
    "counter=0\n",
    "for word in salud:\n",
    "    if word not in model.vocab:\n",
    "        continue\n",
    "    else:\n",
    "        temp = model.word_vec(word)\n",
    "        salud_vect=salud_vect+temp\n",
    "        counter +=1\n",
    "\n",
    "salud_vect=salud_vect/counter\n",
    "salud_vect=np.squeeze(salud_vect)"
   ]
  },
  {
   "cell_type": "code",
   "execution_count": 61,
   "metadata": {},
   "outputs": [],
   "source": [
    "#CREATE THE EDUCACION VECTOR\n",
    "edu_vect = np.zeros((1,300))\n",
    "counter=0\n",
    "for word in educacion:\n",
    "    if word not in model.vocab:\n",
    "        continue\n",
    "    else:\n",
    "        temp = model.word_vec(word)\n",
    "        edu_vect=edu_vect+temp\n",
    "        counter +=1\n",
    "\n",
    "edu_vect=edu_vect/counter\n",
    "edu_vect=np.squeeze(edu_vect)"
   ]
  },
  {
   "cell_type": "code",
   "execution_count": 62,
   "metadata": {},
   "outputs": [],
   "source": [
    "#CREATE THE RACISMO VECTOR NUEVO MAR 27\n",
    "rac_vect = np.zeros((1,300))\n",
    "counter=0\n",
    "for word in racismo:\n",
    "    if word not in model.vocab:\n",
    "        continue\n",
    "    else:\n",
    "        temp = model.word_vec(word)\n",
    "        rac_vect=rac_vect+temp\n",
    "        counter +=1\n",
    "\n",
    "rac_vect=rac_vect/counter\n",
    "rac_vect=np.squeeze(rac_vect)"
   ]
  },
  {
   "cell_type": "code",
   "execution_count": 63,
   "metadata": {},
   "outputs": [],
   "source": [
    "#GET A LIST OF TOKENS BEFORE RUNNING THE CLASSIFICATION ALGORITHM\n",
    "\n",
    "tweets.rename({'text':'tweet'}, axis=1, inplace=True)\n",
    "\n",
    "#GENERATE TOKENS USING REGEX \n",
    "tokenizer = RegexpTokenizer(r'\\w+') \n",
    "tweet_tokens = [tokenizer.tokenize(tweet.lower()) for tweet in tweets_text]\n",
    "\n",
    "clean_venezuela_tweet_tokens = []\n",
    "for tweet in tweet_tokens:\n",
    "    clean_tweet_tokens = []\n",
    "    for word in tweet:\n",
    "        if word not in stopwordsespanol and word not in ['@','rt', 'https', 'co'] and '@' not in word:\n",
    "            clean_tweet_tokens.append(word)\n",
    "    clean_venezuela_tweet_tokens.append(clean_tweet_tokens)\n",
    "    \n",
    "# NOTE: YOUR OUTPUT AT THIS POINT MUST BE A LIST OF LISTS OF TOKENS. EACH INDIVIDUAL LIST WITHIN THE PARENT LIST\n",
    "#... CORRESPONDS TO A TWEET (or sentence) FROM YOUR DATAFRAME\n"
   ]
  },
  {
   "cell_type": "code",
   "execution_count": 64,
   "metadata": {},
   "outputs": [
    {
     "name": "stderr",
     "output_type": "stream",
     "text": [
      "/Users/belensanchez/anaconda3/lib/python3.6/site-packages/ipykernel_launcher.py:24: RuntimeWarning: invalid value encountered in double_scalars\n",
      "/Users/belensanchez/anaconda3/lib/python3.6/site-packages/ipykernel_launcher.py:26: RuntimeWarning: invalid value encountered in double_scalars\n",
      "/Users/belensanchez/anaconda3/lib/python3.6/site-packages/ipykernel_launcher.py:28: RuntimeWarning: invalid value encountered in double_scalars\n",
      "/Users/belensanchez/anaconda3/lib/python3.6/site-packages/ipykernel_launcher.py:30: RuntimeWarning: invalid value encountered in double_scalars\n",
      "/Users/belensanchez/anaconda3/lib/python3.6/site-packages/ipykernel_launcher.py:32: RuntimeWarning: invalid value encountered in double_scalars\n",
      "/Users/belensanchez/anaconda3/lib/python3.6/site-packages/ipykernel_launcher.py:34: RuntimeWarning: invalid value encountered in double_scalars\n"
     ]
    }
   ],
   "source": [
    "#CLASSIFYING TWEETS THROUGH COSINE SIMILARITY\n",
    "# FIRST RUN THE LOOP THAT WILL TURN EACH WORD IN YOUR LIST OF TOKENIZED TWEETS (or tokenized sentences) INTO A VECTOR. \n",
    "\n",
    "target = [] # WE WILL FILL THIS WITH OUR CLASSIFICATIONS FOR EACH FULL TWEET\n",
    "for tweet in clean_venezuela_tweet_tokens:\n",
    "    counter=0\n",
    "    for item in tweet: \n",
    "        temp_vect = np.zeros((1, 300))\n",
    "        if item not in model.vocab.keys(): # IF WORD NOT IN Word2Vec MODEL, IT IS NOT INCLUDED\n",
    "            continue\n",
    "        else:\n",
    "            temp_vect = temp_vect + model.word_vec(item)\n",
    "            counter += 1\n",
    "    if counter==0:\n",
    "        counter=1\n",
    "    temp_vect = np.squeeze(temp_vect)/counter\n",
    "        \n",
    "        # THE BELOW STEP IS CALCULATING AND COMPARING THE COSINE SIMILARITIES. THE DOT PRODUCT IS CALCULATED\n",
    "        #... FOR THE TWEET VECTOR AND EACH VECTOR OF EACH BAG OF WORDS.\n",
    "        #... AFTER CALCULATING THE DOT PRODUCT, WE DIVIDE BY THE ABS. VALUE OF THE TWO GIVEN VECTORS\n",
    "        #... TO GET THE COSINE VALUE FOR THE ANGLE BETWEEN THE VECTORS. THE GREATER THE COSINE VALUE, THE CLOSER\n",
    "        #... TWO VECTORS ARE TO ONE ANOTHER, AND TWEETS ARE ASSIGNED A CLASSIFICATION OF IDENTIDAD, REFUGIO, EMPLEO,\n",
    "        #... SALUD, EDUCACION OR RACISMO ACCORDINGLY\n",
    "    if np.dot(temp_vect, ident_vect)/(np.linalg.norm(ident_vect)*np.linalg.norm(temp_vect)) >= np.dot(temp_vect,ref_vect)/(np.linalg.norm(ref_vect)*np.linalg.norm(temp_vect))and np.dot(temp_vect, ident_vect)/(np.linalg.norm(ident_vect)*np.linalg.norm(temp_vect)) >= np.dot(temp_vect,empleo_vect)/(np.linalg.norm(empleo_vect)*np.linalg.norm(temp_vect)) and np.dot(temp_vect, ident_vect)/(np.linalg.norm(ident_vect)*np.linalg.norm(temp_vect)) >= np.dot(temp_vect,salud_vect)/(np.linalg.norm(salud_vect)*np.linalg.norm(temp_vect))and np.dot(temp_vect, ident_vect)/(np.linalg.norm(ident_vect)*np.linalg.norm(temp_vect)) >= np.dot(temp_vect,edu_vect)/(np.linalg.norm(edu_vect)*np.linalg.norm(temp_vect))and np.dot(temp_vect, ident_vect)/(np.linalg.norm(ident_vect)*np.linalg.norm(temp_vect)) >= np.dot(temp_vect,rac_vect)/(np.linalg.norm(rac_vect)*np.linalg.norm(temp_vect)):\n",
    "        target.append(1)\n",
    "    elif np.dot(temp_vect, ref_vect)/(np.linalg.norm(ref_vect)*np.linalg.norm(temp_vect)) >= np.dot(temp_vect, ident_vect)/(np.linalg.norm(ident_vect)*np.linalg.norm(temp_vect))and np.dot(temp_vect, ref_vect)/(np.linalg.norm(ref_vect)*np.linalg.norm(temp_vect))>= np.dot(temp_vect, empleo_vect)/(np.linalg.norm(empleo_vect)*np.linalg.norm(temp_vect)) and np.dot(temp_vect, ref_vect)/(np.linalg.norm(ref_vect)*np.linalg.norm(temp_vect))>= np.dot(temp_vect, salud_vect)/(np.linalg.norm(salud_vect)*np.linalg.norm(temp_vect)) and np.dot(temp_vect, ref_vect)/(np.linalg.norm(ref_vect)*np.linalg.norm(temp_vect))>= np.dot(temp_vect, edu_vect)/(np.linalg.norm(edu_vect)*np.linalg.norm(temp_vect)) and np.dot(temp_vect, ref_vect)/(np.linalg.norm(ref_vect)*np.linalg.norm(temp_vect)) >= np.dot(temp_vect,rac_vect)/(np.linalg.norm(rac_vect)*np.linalg.norm(temp_vect)):\n",
    "        target.append(2)\n",
    "    elif np.dot(temp_vect, empleo_vect)/(np.linalg.norm(empleo_vect)*np.linalg.norm(temp_vect)) >= np.dot(temp_vect, ident_vect)/(np.linalg.norm(ident_vect)*np.linalg.norm(temp_vect))and np.dot(temp_vect, empleo_vect)/(np.linalg.norm(empleo_vect)*np.linalg.norm(temp_vect))>= np.dot(temp_vect, ref_vect)/(np.linalg.norm(ref_vect)*np.linalg.norm(temp_vect)) and np.dot(temp_vect, empleo_vect)/(np.linalg.norm(empleo_vect)*np.linalg.norm(temp_vect))>= np.dot(temp_vect, salud_vect)/(np.linalg.norm(salud_vect)*np.linalg.norm(temp_vect)) and np.dot(temp_vect, empleo_vect)/(np.linalg.norm(empleo_vect)*np.linalg.norm(temp_vect))>= np.dot(temp_vect, edu_vect)/(np.linalg.norm(edu_vect)*np.linalg.norm(temp_vect)) and np.dot(temp_vect, empleo_vect)/(np.linalg.norm(empleo_vect)*np.linalg.norm(temp_vect)) >= np.dot(temp_vect,rac_vect)/(np.linalg.norm(rac_vect)*np.linalg.norm(temp_vect)):\n",
    "        target.append(3)\n",
    "    elif np.dot(temp_vect, salud_vect)/(np.linalg.norm(salud_vect)*np.linalg.norm(temp_vect)) >= np.dot(temp_vect, ident_vect)/(np.linalg.norm(ident_vect)*np.linalg.norm(temp_vect))and np.dot(temp_vect, salud_vect)/(np.linalg.norm(salud_vect)*np.linalg.norm(temp_vect))>= np.dot(temp_vect, ref_vect)/(np.linalg.norm(ref_vect)*np.linalg.norm(temp_vect))and np.dot(temp_vect, salud_vect)/(np.linalg.norm(salud_vect)*np.linalg.norm(temp_vect))>= np.dot(temp_vect, empleo_vect)/(np.linalg.norm(empleo_vect)*np.linalg.norm(temp_vect)) and np.dot(temp_vect, salud_vect)/(np.linalg.norm(salud_vect)*np.linalg.norm(temp_vect))>= np.dot(temp_vect, edu_vect)/(np.linalg.norm(edu_vect)*np.linalg.norm(temp_vect)) and np.dot(temp_vect, salud_vect)/(np.linalg.norm(salud_vect)*np.linalg.norm(temp_vect)) >= np.dot(temp_vect,rac_vect)/(np.linalg.norm(rac_vect)*np.linalg.norm(temp_vect)): \n",
    "        target.append(4)\n",
    "    elif np.dot(temp_vect, edu_vect)/(np.linalg.norm(edu_vect)*np.linalg.norm(temp_vect)) >= np.dot(temp_vect, ident_vect)/(np.linalg.norm(ident_vect)*np.linalg.norm(temp_vect))and np.dot(temp_vect, edu_vect)/(np.linalg.norm(edu_vect)*np.linalg.norm(temp_vect))>= np.dot(temp_vect, ref_vect)/(np.linalg.norm(ref_vect)*np.linalg.norm(temp_vect))and np.dot(temp_vect, edu_vect)/(np.linalg.norm(edu_vect)*np.linalg.norm(temp_vect))>= np.dot(temp_vect, empleo_vect)/(np.linalg.norm(empleo_vect)*np.linalg.norm(temp_vect)) and np.dot(temp_vect, edu_vect)/(np.linalg.norm(edu_vect)*np.linalg.norm(temp_vect))>= np.dot(temp_vect, salud_vect)/(np.linalg.norm(salud_vect)*np.linalg.norm(temp_vect)) and np.dot(temp_vect, edu_vect)/(np.linalg.norm(edu_vect)*np.linalg.norm(temp_vect)) >= np.dot(temp_vect,rac_vect)/(np.linalg.norm(rac_vect)*np.linalg.norm(temp_vect)): \n",
    "        target.append(5)\n",
    "    elif np.dot(temp_vect, rac_vect)/(np.linalg.norm(rac_vect)*np.linalg.norm(temp_vect)) >= np.dot(temp_vect, ident_vect)/(np.linalg.norm(ident_vect)*np.linalg.norm(temp_vect))and np.dot(temp_vect, rac_vect)/(np.linalg.norm(rac_vect)*np.linalg.norm(temp_vect))>= np.dot(temp_vect, ref_vect)/(np.linalg.norm(ref_vect)*np.linalg.norm(temp_vect))and np.dot(temp_vect, rac_vect)/(np.linalg.norm(rac_vect)*np.linalg.norm(temp_vect))>= np.dot(temp_vect, empleo_vect)/(np.linalg.norm(empleo_vect)*np.linalg.norm(temp_vect)) and np.dot(temp_vect, rac_vect)/(np.linalg.norm(rac_vect)*np.linalg.norm(temp_vect))>= np.dot(temp_vect, salud_vect)/(np.linalg.norm(salud_vect)*np.linalg.norm(temp_vect)) and np.dot(temp_vect, rac_vect)/(np.linalg.norm(rac_vect)*np.linalg.norm(temp_vect)) >= np.dot(temp_vect,edu_vect)/(np.linalg.norm(edu_vect)*np.linalg.norm(temp_vect)): \n",
    "        target.append(6)\n",
    "    else:\n",
    "        target.append(0)\n",
    "    "
   ]
  },
  {
   "cell_type": "code",
   "execution_count": 67,
   "metadata": {},
   "outputs": [],
   "source": [
    "#ADD CLASSIFICATIONS TO DATAFRAME\n",
    "tweets['target'] = target"
   ]
  },
  {
   "cell_type": "code",
   "execution_count": 68,
   "metadata": {},
   "outputs": [
    {
     "data": {
      "text/plain": [
       "0    78856\n",
       "1     3555\n",
       "3     1747\n",
       "6      903\n",
       "2      765\n",
       "4      234\n",
       "5       66\n",
       "Name: target, dtype: int64"
      ]
     },
     "execution_count": 68,
     "metadata": {},
     "output_type": "execute_result"
    }
   ],
   "source": [
    "#CHECK NUMBER OF TWEETS CLASSIFIED BY CATEGORY\n",
    "tweets.target.value_counts()"
   ]
  },
  {
   "cell_type": "code",
   "execution_count": 329,
   "metadata": {},
   "outputs": [
    {
     "data": {
      "text/plain": [
       "(7270, 19)"
      ]
     },
     "execution_count": 329,
     "metadata": {},
     "output_type": "execute_result"
    }
   ],
   "source": []
  },
  {
   "cell_type": "code",
   "execution_count": 74,
   "metadata": {},
   "outputs": [
    {
     "data": {
      "image/png": "[encoded data removed]",
      "text/plain": [
       "<Figure size 360x360 with 1 Axes>"
      ]
     },
     "metadata": {},
     "output_type": "display_data"
    }
   ],
   "source": [
    "#GRAPH TWEETS CLASIFIED BY CATEGORY\n",
    "#CREATE SET WITH TWEETS CLASIFIED WITH VALUES 1 TO 6\n",
    "target = tweets[tweets['target'] != 0]\n",
    "target.shape\n",
    "\n",
    "#SET THE PLOT CHARACTERISTICS\n",
    "plt.style.use(\"dark_background\")\n",
    "ax=sns.countplot(x='target', data=target, palette=\"Blues_r\")\n",
    "sns.set(font_scale=1, rc={'figure.figsize':(5, 5)}, palette=\"Blues_r\")\n",
    "plt.grid(color='black')\n",
    "sns.axes_style(style='dark')\n",
    "plt.xticks(rotation=0)\n",
    "labels = ['Identidad', 'Refugio', 'Empleo', 'Salud', 'Educación', 'Racismo']\n",
    "ax.set_xticklabels(labels)\n",
    "plt.ylabel('Tweets por categoría')\n",
    "plt.xlabel(\"\")\n",
    "plt.show()"
   ]
  },
  {
   "cell_type": "markdown",
   "metadata": {},
   "source": [
    "## 7. Geo tweets "
   ]
  },
  {
   "cell_type": "code",
   "execution_count": 111,
   "metadata": {},
   "outputs": [
    {
     "data": {
      "text/plain": [
       "(3307, 20)"
      ]
     },
     "execution_count": 111,
     "metadata": {},
     "output_type": "execute_result"
    }
   ],
   "source": [
    "#FILTERING TWEETS THAT HAVE GEOLOCATION\n",
    "tweets_geo = tweets[tweets['geo_coordinates'].notnull()]\n",
    "tweets_geo.shape"
   ]
  },
  {
   "cell_type": "code",
   "execution_count": 112,
   "metadata": {
    "scrolled": false
   },
   "outputs": [
    {
     "name": "stderr",
     "output_type": "stream",
     "text": [
      "/Users/belensanchez/anaconda3/lib/python3.6/site-packages/ipykernel_launcher.py:1: SettingWithCopyWarning:\n",
      "\n",
      "\n",
      "A value is trying to be set on a copy of a slice from a DataFrame.\n",
      "Try using .loc[row_indexer,col_indexer] = value instead\n",
      "\n",
      "See the caveats in the documentation: http://pandas.pydata.org/pandas-docs/stable/indexing.html#indexing-view-versus-copy\n",
      "\n",
      "/Users/belensanchez/anaconda3/lib/python3.6/site-packages/ipykernel_launcher.py:2: SettingWithCopyWarning:\n",
      "\n",
      "\n",
      "A value is trying to be set on a copy of a slice from a DataFrame.\n",
      "Try using .loc[row_indexer,col_indexer] = value instead\n",
      "\n",
      "See the caveats in the documentation: http://pandas.pydata.org/pandas-docs/stable/indexing.html#indexing-view-versus-copy\n",
      "\n",
      "/Users/belensanchez/anaconda3/lib/python3.6/site-packages/ipykernel_launcher.py:3: SettingWithCopyWarning:\n",
      "\n",
      "\n",
      "A value is trying to be set on a copy of a slice from a DataFrame.\n",
      "Try using .loc[row_indexer,col_indexer] = value instead\n",
      "\n",
      "See the caveats in the documentation: http://pandas.pydata.org/pandas-docs/stable/indexing.html#indexing-view-versus-copy\n",
      "\n"
     ]
    }
   ],
   "source": [
    "tweets_geo['geo_coordinates'] = tweets_geo['geo_coordinates'].str.replace('loc: ', '') #REMOVE LOC FROM EACH TWEET\n",
    "tweets_geo['latitude'] = tweets_geo['geo_coordinates'].apply(lambda x: x.split(',')[0]) #CREATE A LATITUDE COLUM AND ASSIGN IT THE LAT VALUE OF GEOCORDINATE\n",
    "tweets_geo['longitude'] = tweets_geo['geo_coordinates'].apply(lambda x: x.split(',')[1]) #CREATE A LONGITUDE COLUM AND ASSIGN IT THE LONG VALUE OF GEOCORDINATE"
   ]
  },
  {
   "cell_type": "code",
   "execution_count": 113,
   "metadata": {},
   "outputs": [],
   "source": [
    "#Re-projecting is the process of changing the representation of locations from one coordinate system to another. \n",
    "#Assign CRS to the GeoPandas object to re-project.\n",
    "crs = {'init': 'epsg:4326'}"
   ]
  },
  {
   "cell_type": "code",
   "execution_count": 114,
   "metadata": {},
   "outputs": [
    {
     "name": "stderr",
     "output_type": "stream",
     "text": [
      "/Users/belensanchez/anaconda3/lib/python3.6/site-packages/pandas/core/frame.py:3140: SettingWithCopyWarning:\n",
      "\n",
      "\n",
      "A value is trying to be set on a copy of a slice from a DataFrame.\n",
      "Try using .loc[row_indexer,col_indexer] = value instead\n",
      "\n",
      "See the caveats in the documentation: http://pandas.pydata.org/pandas-docs/stable/indexing.html#indexing-view-versus-copy\n",
      "\n"
     ]
    }
   ],
   "source": [
    "#Set longitude and latitude to numeric format\n",
    "tweets_geo[['longitude', 'latitude']] = tweets_geo[['longitude', 'latitude']].apply(pd.to_numeric) "
   ]
  },
  {
   "cell_type": "code",
   "execution_count": 115,
   "metadata": {},
   "outputs": [],
   "source": [
    "#Generate a geometry column to generate gegoraphic visualizations(maps).\n",
    "geometry = [Point(xy) for xy in zip (tweets_geo['longitude'], tweets_geo['latitude'])]\n",
    "\n",
    "geo_tweets = gpd.GeoDataFrame(tweets_geo,\n",
    "                              crs = crs,\n",
    "                              geometry = geometry)"
   ]
  },
  {
   "cell_type": "code",
   "execution_count": 116,
   "metadata": {},
   "outputs": [
    {
     "data": {
      "text/html": [
       "<div>\n",
       "<style scoped>\n",
       "    .dataframe tbody tr th:only-of-type {\n",
       "        vertical-align: middle;\n",
       "    }\n",
       "\n",
       "    .dataframe tbody tr th {\n",
       "        vertical-align: top;\n",
       "    }\n",
       "\n",
       "    .dataframe thead th {\n",
       "        text-align: right;\n",
       "    }\n",
       "</style>\n",
       "<table border=\"1\" class=\"dataframe\">\n",
       "  <thead>\n",
       "    <tr style=\"text-align: right;\">\n",
       "      <th></th>\n",
       "      <th>Unnamed: 0</th>\n",
       "      <th>id_str</th>\n",
       "      <th>from_user</th>\n",
       "      <th>tweet</th>\n",
       "      <th>created_at</th>\n",
       "      <th>time</th>\n",
       "      <th>geo_coordinates</th>\n",
       "      <th>user_lang</th>\n",
       "      <th>in_reply_to_user_id_str</th>\n",
       "      <th>in_reply_to_screen_name</th>\n",
       "      <th>...</th>\n",
       "      <th>profile_image_url</th>\n",
       "      <th>user_followers_count</th>\n",
       "      <th>user_friends_count</th>\n",
       "      <th>user_location</th>\n",
       "      <th>status_url</th>\n",
       "      <th>entities_str</th>\n",
       "      <th>target</th>\n",
       "      <th>latitude</th>\n",
       "      <th>longitude</th>\n",
       "      <th>geometry</th>\n",
       "    </tr>\n",
       "  </thead>\n",
       "  <tbody>\n",
       "    <tr>\n",
       "      <th>0</th>\n",
       "      <td>0</td>\n",
       "      <td>1.119288e+18</td>\n",
       "      <td>edgarjmendezt</td>\n",
       "      <td>#familytime #cookingtime #friday #venezolanose...</td>\n",
       "      <td>Fri Apr 19 17:12:35 +0000 2019</td>\n",
       "      <td>19/04/2019 18:12:35</td>\n",
       "      <td>28.5421,-81.3775</td>\n",
       "      <td>es</td>\n",
       "      <td>NaN</td>\n",
       "      <td>NaN</td>\n",
       "      <td>...</td>\n",
       "      <td>http://pbs.twimg.com/profile_images/1093853883...</td>\n",
       "      <td>139.0</td>\n",
       "      <td>201.0</td>\n",
       "      <td>Orlando, Florida, USA</td>\n",
       "      <td>http://twitter.com/edgarjmendezt/statuses/1119...</td>\n",
       "      <td>{\"hashtags\":[{\"text\":\"familytime\",\"indices\":[0...</td>\n",
       "      <td>0</td>\n",
       "      <td>28.542100</td>\n",
       "      <td>-81.377500</td>\n",
       "      <td>POINT (-81.3775 28.5421)</td>\n",
       "    </tr>\n",
       "    <tr>\n",
       "      <th>8</th>\n",
       "      <td>8</td>\n",
       "      <td>1.119270e+18</td>\n",
       "      <td>maor_x</td>\n",
       "      <td>Pésaj en familia, a la venezolana! #פסח #Venez...</td>\n",
       "      <td>Fri Apr 19 16:01:30 +0000 2019</td>\n",
       "      <td>19/04/2019 17:01:30</td>\n",
       "      <td>31.76316667,35.22105278</td>\n",
       "      <td>en</td>\n",
       "      <td>NaN</td>\n",
       "      <td>NaN</td>\n",
       "      <td>...</td>\n",
       "      <td>http://pbs.twimg.com/profile_images/1074696044...</td>\n",
       "      <td>580.0</td>\n",
       "      <td>715.0</td>\n",
       "      <td>Jerusalem, Israel</td>\n",
       "      <td>http://twitter.com/maor_x/statuses/11192698013...</td>\n",
       "      <td>{\"hashtags\":[{\"text\":\"פסח\",\"indices\":[35,39]},...</td>\n",
       "      <td>0</td>\n",
       "      <td>31.763167</td>\n",
       "      <td>35.221053</td>\n",
       "      <td>POINT (35.22105278 31.76316667)</td>\n",
       "    </tr>\n",
       "    <tr>\n",
       "      <th>31</th>\n",
       "      <td>31</td>\n",
       "      <td>1.119230e+18</td>\n",
       "      <td>emiliojosenota</td>\n",
       "      <td>Un poco más del paseo #lima #venezolanosenperu...</td>\n",
       "      <td>Fri Apr 19 13:25:12 +0000 2019</td>\n",
       "      <td>19/04/2019 14:25:12</td>\n",
       "      <td>-12.0707974,-77.03402738</td>\n",
       "      <td>es</td>\n",
       "      <td>NaN</td>\n",
       "      <td>NaN</td>\n",
       "      <td>...</td>\n",
       "      <td>http://pbs.twimg.com/profile_images/7813275210...</td>\n",
       "      <td>542.0</td>\n",
       "      <td>863.0</td>\n",
       "      <td>Lima. Perú</td>\n",
       "      <td>http://twitter.com/emiliojosenota/statuses/111...</td>\n",
       "      <td>{\"hashtags\":[{\"text\":\"lima\",\"indices\":[22,27]}...</td>\n",
       "      <td>0</td>\n",
       "      <td>-12.070797</td>\n",
       "      <td>-77.034027</td>\n",
       "      <td>POINT (-77.03402738 -12.0707974)</td>\n",
       "    </tr>\n",
       "  </tbody>\n",
       "</table>\n",
       "<p>3 rows × 23 columns</p>\n",
       "</div>"
      ],
      "text/plain": [
       "    Unnamed: 0        id_str       from_user  \\\n",
       "0            0  1.119288e+18   edgarjmendezt   \n",
       "8            8  1.119270e+18          maor_x   \n",
       "31          31  1.119230e+18  emiliojosenota   \n",
       "\n",
       "                                                tweet  \\\n",
       "0   #familytime #cookingtime #friday #venezolanose...   \n",
       "8   Pésaj en familia, a la venezolana! #פסח #Venez...   \n",
       "31  Un poco más del paseo #lima #venezolanosenperu...   \n",
       "\n",
       "                        created_at                 time  \\\n",
       "0   Fri Apr 19 17:12:35 +0000 2019  19/04/2019 18:12:35   \n",
       "8   Fri Apr 19 16:01:30 +0000 2019  19/04/2019 17:01:30   \n",
       "31  Fri Apr 19 13:25:12 +0000 2019  19/04/2019 14:25:12   \n",
       "\n",
       "             geo_coordinates user_lang  in_reply_to_user_id_str  \\\n",
       "0           28.5421,-81.3775        es                      NaN   \n",
       "8    31.76316667,35.22105278        en                      NaN   \n",
       "31  -12.0707974,-77.03402738        es                      NaN   \n",
       "\n",
       "   in_reply_to_screen_name                ...                 \\\n",
       "0                      NaN                ...                  \n",
       "8                      NaN                ...                  \n",
       "31                     NaN                ...                  \n",
       "\n",
       "                                    profile_image_url  user_followers_count  \\\n",
       "0   http://pbs.twimg.com/profile_images/1093853883...                 139.0   \n",
       "8   http://pbs.twimg.com/profile_images/1074696044...                 580.0   \n",
       "31  http://pbs.twimg.com/profile_images/7813275210...                 542.0   \n",
       "\n",
       "   user_friends_count          user_location  \\\n",
       "0               201.0  Orlando, Florida, USA   \n",
       "8               715.0      Jerusalem, Israel   \n",
       "31              863.0             Lima. Perú   \n",
       "\n",
       "                                           status_url  \\\n",
       "0   http://twitter.com/edgarjmendezt/statuses/1119...   \n",
       "8   http://twitter.com/maor_x/statuses/11192698013...   \n",
       "31  http://twitter.com/emiliojosenota/statuses/111...   \n",
       "\n",
       "                                         entities_str target   latitude  \\\n",
       "0   {\"hashtags\":[{\"text\":\"familytime\",\"indices\":[0...      0  28.542100   \n",
       "8   {\"hashtags\":[{\"text\":\"פסח\",\"indices\":[35,39]},...      0  31.763167   \n",
       "31  {\"hashtags\":[{\"text\":\"lima\",\"indices\":[22,27]}...      0 -12.070797   \n",
       "\n",
       "    longitude                          geometry  \n",
       "0  -81.377500          POINT (-81.3775 28.5421)  \n",
       "8   35.221053   POINT (35.22105278 31.76316667)  \n",
       "31 -77.034027  POINT (-77.03402738 -12.0707974)  \n",
       "\n",
       "[3 rows x 23 columns]"
      ]
     },
     "execution_count": 116,
     "metadata": {},
     "output_type": "execute_result"
    }
   ],
   "source": [
    "geo_tweets.head(3)"
   ]
  },
  {
   "cell_type": "markdown",
   "metadata": {},
   "source": [
    "## 8. Visualizacion interactiva con Plot.ly"
   ]
  },
  {
   "cell_type": "code",
   "execution_count": 117,
   "metadata": {},
   "outputs": [],
   "source": [
    "##ASSIGN LABELS TO EACH TARGET VALUE ON GEOTWEETS DATA\n",
    "geo_tweets.loc[geo_tweets['target'] == 0, 'Need'] = 'Otro'\n",
    "geo_tweets.loc[geo_tweets['target'] == 1, 'Need'] = 'Identidad'\n",
    "geo_tweets.loc[geo_tweets['target'] == 2, 'Need'] = 'Refugio'\n",
    "geo_tweets.loc[geo_tweets['target'] == 3, 'Need'] = 'Empleo'\n",
    "geo_tweets.loc[geo_tweets['target'] == 4, 'Need'] = 'Salud'\n",
    "geo_tweets.loc[geo_tweets['target'] == 5, 'Need'] = 'Educación'\n",
    "geo_tweets.loc[geo_tweets['target'] == 6, 'Need'] = 'Racismo'\n"
   ]
  },
  {
   "cell_type": "code",
   "execution_count": 118,
   "metadata": {},
   "outputs": [
    {
     "data": {
      "text/plain": [
       "Otro    3307\n",
       "Name: Need, dtype: int64"
      ]
     },
     "execution_count": 118,
     "metadata": {},
     "output_type": "execute_result"
    }
   ],
   "source": [
    "##SO FAR ALL THE TWEETS WITH GEOLOCATION ARE CLASSIFIED AS OTHER\n",
    "geo_tweets['Need'].value_counts()"
   ]
  },
  {
   "cell_type": "code",
   "execution_count": 119,
   "metadata": {},
   "outputs": [],
   "source": [
    "# SETTING PLOT.LY USER, API KEY AND ACCESS TOKEN\n",
    "plotly.tools.set_credentials_file(username='YOURUSERNAME', api_key='YOURAPIKEY')\n",
    "mapbox_access_token = 'YOURACCESSTOKEN'"
   ]
  },
  {
   "cell_type": "code",
   "execution_count": 121,
   "metadata": {},
   "outputs": [],
   "source": [
    "# ASSIGN GEO_TWEES TO DF AND CREATE LIST OF EVENT TYPES\n",
    "df = geo_tweets\n",
    "event_types = ['Otro','Identidad', 'Refugio', 'Empleo', 'Salud', 'Educación', 'Racismo']"
   ]
  },
  {
   "cell_type": "code",
   "execution_count": 122,
   "metadata": {},
   "outputs": [],
   "source": [
    "# CREATE A DICTIONARY WITH LATITUDES AND LONGITUDES FOR EACH EVENT IN GEOTWEETS\n",
    "data = []\n",
    "for event in event_types:\n",
    "    event_data = dict(\n",
    "            lat = df.loc[df['Need'] == event,'latitude'],\n",
    "            lon = df.loc[df['Need'] == event,'longitude'],\n",
    "            name = event,\n",
    "            marker = dict(size = 8, opacity = 0.5),\n",
    "            type = 'scattermapbox'\n",
    "        )\n",
    "    data.append(event_data)"
   ]
  },
  {
   "cell_type": "code",
   "execution_count": 123,
   "metadata": {},
   "outputs": [],
   "source": [
    "#SET ACCESS AND CHARACTERISTICS OF YOUR PLOT.LY GRAPH\n",
    "layout = dict(\n",
    "    height = 800,\n",
    "    # TOP, BOTTOM, LEFT AND RIGHT MARGINS\n",
    "    margin = dict(t = 0, b = 0, l = 0, r = 0),\n",
    "    font = dict(color = '#FFFFFF', size = 11), #FONT COLOR AND SIZE\n",
    "    paper_bgcolor = '#000000',  #BACKGROUND COLOR\n",
    "    mapbox = dict(\n",
    "        # HERE ENTER THE TOKEN FROM MAPBOX\n",
    "        accesstoken = mapbox_access_token,\n",
    "        bearing = 0,\n",
    "        # DEFINE WHERE YOU WANT THE MAP TO BE CENTERED\n",
    "        center = dict(\n",
    "            lat = 38,\n",
    "            lon = -94\n",
    "        ),\n",
    "        # SETS MAP TO BE PARALLEL TO SCREEN WITN NO ANGLE\n",
    "        pitch = 0,\n",
    "        # SET DEFAULT LEVEL OF ZOOM\n",
    "        zoom = 3,\n",
    "        # SET DEFAULT MAP STYLE\n",
    "        style = 'dark'\n",
    "    )\n",
    ")"
   ]
  },
  {
   "cell_type": "code",
   "execution_count": 124,
   "metadata": {},
   "outputs": [],
   "source": [
    "#SET UP THE ANNOTATIONS OF THE GRAPH\n",
    "annotations = [dict(\n",
    "  \n",
    "              # THIS IS THE TEXT YOU WANT TO DISPLAY \n",
    "              text = 'Tweets Sept. 2018 - Abr. 2019', \n",
    "              \n",
    "              # SET FOND AND BORDER CHARACTERISTICS\n",
    "              font = dict(color = '#FFFFFF', size = 14), borderpad = 10, \n",
    "              \n",
    "              # POSITIONAL ARGUMENTS\n",
    "              x = 0.05, y = 0.05, xref = 'paper', yref = 'paper', align = 'left', \n",
    "              \n",
    "              # DON'T SHOW ARROW AND SET BACKGROUND COLOR \n",
    "              showarrow = False, bgcolor = 'black'\n",
    "              )]\n",
    "\n",
    "# ASSIGN ANNOTATIONS TO THE LAYOUT \n",
    "layout['annotations'] = annotations"
   ]
  },
  {
   "cell_type": "code",
   "execution_count": 125,
   "metadata": {},
   "outputs": [],
   "source": [
    "# SET UP DROP DOWN MENUS OF YOUR GRAPH\n",
    "updatemenus=list([\n",
    "    # DROP-DOWN 1: MAP STYLES MENU \n",
    "    # BUTTONS CONTAINES AS MANY MAP STYLES YOU WANT TO OFFER\n",
    "    dict(\n",
    "        buttons=list([\n",
    "            dict(\n",
    "                args=['mapbox.style', 'dark'],\n",
    "                label='Dark',\n",
    "                method='relayout'\n",
    "            ),                    \n",
    "            dict(\n",
    "                args=['mapbox.style', 'light'],\n",
    "                label='Light',\n",
    "                method='relayout'\n",
    "            ),\n",
    "            dict(\n",
    "                args=['mapbox.style', 'outdoors'],\n",
    "                label='Outdoors',\n",
    "                method='relayout'\n",
    "            ),\n",
    "            dict(\n",
    "                args=['mapbox.style', 'satellite-streets'],\n",
    "                label='Satellite with Streets',\n",
    "                method='relayout'\n",
    "            )                    \n",
    "        ]),\n",
    "        # SET DIRECTION WHERE YOU WANT MENU TO EXPAND \n",
    "        direction = 'up',\n",
    "      \n",
    "        # SET LOCATION FOR DROP-DOWN MENU ON MAP\n",
    "        x = 0.75,\n",
    "        xanchor = 'left',\n",
    "        y = 0.05,\n",
    "        yanchor = 'bottom',\n",
    "      \n",
    "        # SPECIFY FONT SIZE AND COLORS \n",
    "        bgcolor = '#000000',\n",
    "        bordercolor = '#FFFFFF',\n",
    "        font = dict(size=11)\n",
    "    ),    \n",
    "    \n",
    "    # DROP-DOWN 2: SELECT TYPE OF NEED TO VISUALIZE \n",
    "    dict(\n",
    "         # for each button you specify which dictionaries of my data list you want to visualize. Remember I have 7 different\n",
    "         # types of needs but I have to include 8 options in total: the first will show all of them, only\n",
    "         # one type at the time will be shown on the map\n",
    "         buttons=list([\n",
    "            dict(label = 'Todos',\n",
    "                 method = 'update',\n",
    "                 args = [{'visible': [True, True, True, True, True, True, True]}]),\n",
    "            dict(label = 'Otro',\n",
    "                 method = 'update',\n",
    "                 args = [{'visible': [True, False, False, False, False, False, False]}]),\n",
    "            dict(label = 'Identidad',\n",
    "                 method = 'update',\n",
    "                 args = [{'visible': [False, True, False, False, False, False, False]}]),\n",
    "             dict(label = 'Refugio',\n",
    "                 method = 'update',\n",
    "                 args = [{'visible': [False, False, True, False, False, False, False]}]),\n",
    "             dict(label = 'Empleo',\n",
    "                 method = 'update',\n",
    "                 args = [{'visible': [False, False, False, True, False, False, False]}]),\n",
    "             dict(label = 'Salud',\n",
    "                 method = 'update',\n",
    "                 args = [{'visible': [False, False, False, False, True, False, False]}]),\n",
    "             dict(label = 'Educación',\n",
    "                 method = 'update',\n",
    "                 args = [{'visible': [False, False, False, False, False, True, False]}]),\n",
    "             dict(label = 'Racismo',\n",
    "                 method = 'update',\n",
    "                 args = [{'visible': [False, False, False, False, False, False, True]}])\n",
    "        ]),\n",
    "        # SET DIRECTION WHERE DROP-DOWN EXPANDS WHEN OPENED \n",
    "        direction = 'down',\n",
    "        # POSITIONAL ARGUMENTS\n",
    "        x = 0.01,\n",
    "        xanchor = 'left',\n",
    "        y = 0.99,\n",
    "        yanchor = 'bottom',\n",
    "        # FONTS AND BORDER\n",
    "        bgcolor = '#000000',\n",
    "        bordercolor = '#FFFFFF',\n",
    "        font = dict(size=11)\n",
    "    )\n",
    "])\n",
    "\n",
    "# ASSIGN LIST OF DICTIONARIES TO THE LAYOUT \n",
    "layout['updatemenus'] = updatemenus\n"
   ]
  },
  {
   "cell_type": "code",
   "execution_count": 126,
   "metadata": {},
   "outputs": [],
   "source": [
    "layout['title'] = 'Geo Tweets '"
   ]
  },
  {
   "cell_type": "code",
   "execution_count": 127,
   "metadata": {
    "scrolled": false
   },
   "outputs": [
    {
     "name": "stdout",
     "output_type": "stream",
     "text": [
      "High five! You successfully sent some data to your account on plotly. View your plot in your browser at https://plot.ly/~belencito27/0 or inside your plot.ly account where it is named 'Geotweets'\n"
     ]
    },
    {
     "data": {
      "text/html": [
       "<iframe id=\"igraph\" scrolling=\"no\" style=\"border:none;\" seamless=\"seamless\" src=\"https://plot.ly/~belencito27/0.embed\" height=\"800px\" width=\"100%\"></iframe>"
      ],
      "text/plain": [
       "<plotly.tools.PlotlyDisplay object>"
      ]
     },
     "execution_count": 127,
     "metadata": {},
     "output_type": "execute_result"
    }
   ],
   "source": [
    "figure1 = dict(data = data, layout = layout)\n",
    "py.iplot(figure1, filename = 'Geotweets')"
   ]
  }
 ],
 "metadata": {
  "kernelspec": {
   "display_name": "Python 3",
   "language": "python",
   "name": "python3"
  },
  "language_info": {
   "codemirror_mode": {
    "name": "ipython",
    "version": 3
   },
   "file_extension": ".py",
   "mimetype": "text/x-python",
   "name": "python",
   "nbconvert_exporter": "python",
   "pygments_lexer": "ipython3",
   "version": "3.6.5"
  }
 },
 "nbformat": 4,
 "nbformat_minor": 2
}
